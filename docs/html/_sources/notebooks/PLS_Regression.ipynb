{
 "cells": [
  {
   "cell_type": "markdown",
   "id": "bc9622d4",
   "metadata": {},
   "source": [
    "# PLS Regression"
   ]
  },
  {
   "cell_type": "markdown",
   "id": "ec394412",
   "metadata": {},
   "source": [
    "🚧 **Page under construction!** 🚧"
   ]
  },
  {
   "cell_type": "markdown",
   "id": "0daaf8e8",
   "metadata": {},
   "source": [
    "## Index\n",
    "- [1. Datos](id-datos)\n",
    "- [2. Pesos Espaciales](id-pesos-espaciales)\n",
    "- [3. Normalización](id-normalizacion)\n",
    "- [4. Detrending](id-detrending)\n",
    "- [5. PLS Regression en Fortran](id-pls-regression)\n",
    "- [6. PLS con Scikit-Learn](id-pls-scikit-learn)\n",
    "- [7. Escritura de Resultados](id-escritura-resultados)\n",
    "\n"
   ]
  },
  {
   "cell_type": "markdown",
   "id": "62b179ea",
   "metadata": {},
   "source": [
    "(id-datos)=\n",
    "## 1. Datos\n",
    "\n",
    "- **PSL** - Presión a nivel del mar (predictor).\n",
    "- **TAS** - Temperatura a 2 metros (target).\n"
   ]
  },
  {
   "cell_type": "markdown",
   "id": "e5fc72b0",
   "metadata": {},
   "source": [
    "~~~ \n",
    "! FORTRAN\n",
    "anz_time=84\t\t!ERA5 from 1940 to 2023\n",
    "l1=11\t\t\t!start time period for PLS \\textbf{\\textit{1950}}\n",
    "l2=80\t\t\t!end time period for PLS \\textbf{\\textit{2020}}\n",
    "!my grid is 384x192, surely it’s the same as Copernicus\n",
    "MaskTAS=read mask for target \n",
    "MaskPSL=[90°W:60°E,20°N:85°N]\n",
    "~~~"
   ]
  },
  {
   "cell_type": "markdown",
   "id": "9ecd18aa",
   "metadata": {},
   "source": [
    "<span style=\"color:blue\">PAPER: MSLP patterns are calculated over the Euro-Atlantic sector [−90, 60]E × [20, 80]N</span>\n",
    "\n",
    "\n",
    "\n"
   ]
  },
  {
   "cell_type": "markdown",
   "id": "4e9d4ab0",
   "metadata": {},
   "source": [
    "~~~ \n",
    "! FORTRAN\n",
    "PSL=read seasonal mean pressure data\t\n",
    "!I actually coarsen the grid further for PSL, averaging 2x2 grid cell\n",
    "\n",
    "TAS=read seasonal mean target data\t!but not for the target\n",
    "~~~"
   ]
  },
  {
   "cell_type": "markdown",
   "id": "665693c5",
   "metadata": {},
   "source": [
    "(id-pesos-espaciales)=\n",
    "## 2. Pesos Espaciales\n",
    "\n",
    "Pesos espaciales para corregir la diferencia de área entre latitudes.\n",
    "\n",
    "Se usa luego en la normalización y en la matriz de covarianza.\n",
    "\n",
    "$$ w(\\phi) = \\sqrt{\\frac{\\pi}{180} \\cdot \\phi} $$\n",
    "\n",
    "$$ \\phi  - latitud $$"
   ]
  },
  {
   "cell_type": "markdown",
   "id": "042d219c",
   "metadata": {},
   "source": [
    "~~~ \n",
    "! FORTRAN\n",
    "w(lat) = sqrt(3.14159265 * lat / 180.)\n",
    "~~~ "
   ]
  },
  {
   "cell_type": "markdown",
   "id": "bb6dc115",
   "metadata": {},
   "source": [
    "```python\n",
    "# Python\n",
    "import numpy as np\n",
    "w2 = np.cos(np.deg2rad(TAS['latitude']))\n",
    "w2_broadcasted, TAS_weighted = xr.broadcast(w2, TAS['AnomT2M'])"
   ]
  },
  {
   "cell_type": "markdown",
   "id": "88c70643",
   "metadata": {},
   "source": [
    "(id-normalizacion)=\n",
    "## 3. Normalización\n",
    "Normalización dividiendo por su varianza espacial\n",
    "\n",
    "\\begin{equation}\n",
    "    \\sigma^2_{\\textbf{TAS}} = \\frac{\\sum_{i,j,t} \\textbf{TAS}(i,j,t)^2}{\\sum \\text{Mask}_{\\textbf{TAS}} \\cdot (l_2 - l_1 + 1)}\n",
    "\\end{equation}\n",
    "\n",
    "\\begin{equation}\n",
    "    \\textbf{TAS}(i,j,t) = \\frac{\\textbf{TAS}(i,j,t)}{\\sqrt{\\sigma^2_{\\textbf{TAS}}}}\n",
    "\\end{equation}\n",
    "\n",
    "\\begin{equation}\n",
    "    \\sigma^2_{\\textbf{PSL}} = \\frac{\\sum_{i,j,t} \\textbf{PSL}(i,j,t)^2}{\\sum \\text{Mask}_{\\textbf{PSL}} \\cdot (l_2 - l_1 + 1)}\n",
    "\\end{equation}\n",
    "\n",
    "\\begin{equation}\n",
    "    \\textbf{PSL}(i,j,t) = \\frac{\\textbf{PSL}(i,j,t)}{\\sqrt{\\sigma^2_{\\textbf{PSL}}}}\n",
    "\\end{equation}"
   ]
  },
  {
   "cell_type": "markdown",
   "id": "cc186c0a",
   "metadata": {},
   "source": [
    "~~~ \n",
    "! FORTRAN\n",
    "varTAS = sum(TAS(:,:,l1:l2)**2.) / (sum(MaskTAS) * real(l2-l1+1))\n",
    "TAS(:,:,:) = TAS(:,:,:) / sqrt(varTAS)\n",
    "varPSL = sum(PSL(:,:,l1:l2)**2.) / (sum(MaskPSL) * real(l2-l1+1))\n",
    "PSL(:,:,:) = PSL(:,:,:) / sqrt(varPSL)\n",
    "~~~ "
   ]
  },
  {
   "cell_type": "markdown",
   "id": "9fd0d4d8",
   "metadata": {},
   "source": [
    "```python\n",
    "# Python\n",
    "\n",
    "# Media y desviación estándar (para estandarizar)\n",
    "PSL_mean, PSL_std = PSL.mean(dim=\"year\"), PSL.std(dim=\"year\")\n",
    "TAS_mean, TAS_std = TAS.mean(dim=\"year\"), TAS.std(dim=\"year\")\n",
    "\n",
    "# Evitar división por cero\n",
    "PSL_std = PSL_std.where(PSL_std != 0, 1)\n",
    "TAS_std = TAS_std.where(TAS_std != 0, 1)\n",
    "\n",
    "# Estandarizar\n",
    "PSL = (PSL - PSL_mean) / PSL_std\n",
    "TAS = (TAS - TAS_mean) / TAS_std"
   ]
  },
  {
   "cell_type": "markdown",
   "id": "cc4211ae",
   "metadata": {},
   "source": [
    "(id-detrending)=\n",
    "\n",
    "## 4. Detrending"
   ]
  },
  {
   "cell_type": "markdown",
   "id": "4b668c34",
   "metadata": {},
   "source": [
    "<div style=\"\n",
    "    background-color: #f8f9fa; \n",
    "    padding: 20px; \n",
    "    border-radius: 12px; \n",
    "    border: 1px solid #ccc; \n",
    "    box-shadow: 4px 4px 12px rgba(0,0,0,0.1); \n",
    "    text-align: justify; \n",
    "    color: #333; \n",
    "    font-family: Arial, sans-serif;\n",
    "    line-height: 1.6;\n",
    "    max-width: 700px;\n",
    "    margin: auto;\n",
    "\">\n",
    "    <h3 style=\"text-align: center; color: #2c3e50;\">📌 Detrending en Análisis de Datos</h3>\n",
    "    <p>\n",
    "        El <strong>detrending</strong> es un proceso en el análisis de datos en el que se elimina una tendencia de una serie temporal. \n",
    "        Se usa en meteorología para analizar anomalías sin que la tendencia global afecte a los resultados.\n",
    "    </p>\n",
    "    <p>\n",
    "        Matemáticamente, implica ajustar y restar una función f(t)  de la serie de datos x(t):\n",
    "    </p>\n",
    "    <pre style=\"background-color: #e8e8e8; padding: 10px; border-radius: 6px; font-family: monospace;\">\n",
    "X_dtrended = x(t) - f(t)\n",
    "f(t) = at² + bt + c  (detrending cuadrático)\n",
    "    </pre>\n",
    "    <p>\n",
    "        El propósito de esta operación es garantizar que las variaciones en los datos sean relativas a la \n",
    "        variabilidad climática en lugar de tendencias a largo plazo.\n",
    "    </p>\n",
    "</div>\n",
    "\n",
    "\n",
    "\n"
   ]
  },
  {
   "cell_type": "markdown",
   "id": "41ba4d74",
   "metadata": {},
   "source": [
    "Se hace detrending para TAS:\n",
    "\n",
    "1. Tomar la media ponderada espacialmente sobre Alemania.\n",
    "\n",
    "2. Ajustar una función cuadrática a la serie temporal.\n",
    "\n",
    "3. Sustraer esta tendencia de todos los puntos.\n",
    "\n",
    "\\begin{equation}\n",
    "    \\textbf{TAS}_\\text{detrended}(i,j,t) = \\textbf{TAS}(i,j,t) - \\hat{f}(t)\n",
    "\\end{equation}\n",
    "\n",
    "donde $\\hat{f}(t)$ es la tendencia cuadrática ajustada. \n",
    "\n",
    "Después, se centra la serie restando la media:\n",
    "\n",
    "\\begin{equation}\n",
    "    \\textbf{TAS}(i,j,t) = \\textbf{TAS}(i,j,t) - \\overline{\\textbf{TAS}}\n",
    "\\end{equation}\n",
    "\n",
    "Para PSL, simplemente se resta su media: $\\textbf{PSL}(i,j,t) = \\textbf{PSL}(i,j,t) - \\overline{\\textbf{PSL}} $\n"
   ]
  },
  {
   "cell_type": "markdown",
   "id": "dd469c55",
   "metadata": {},
   "source": [
    "~~~ \n",
    "! FORTRAN\n",
    "TAS = detrend(TAS)\n",
    "TAS = TAS - mean(TAS)\n",
    "PSL = PSL - mean(PSL)\n",
    "~~~ \n",
    "\n"
   ]
  },
  {
   "cell_type": "markdown",
   "id": "8347729f",
   "metadata": {},
   "source": [
    "```python\n",
    "#Python\n",
    "times = TAS['year']\n",
    "poly_coeffs = Polynomial.fit(times.values, tas_mean_region.values, 2).convert().coef\n",
    "trend = xr.DataArray(np.polyval(poly_coeffs[::-1], times),dims=[\"year\"], coords={\"year\": times})\n",
    "TAS = TAS - trend"
   ]
  },
  {
   "cell_type": "markdown",
   "id": "921f1564",
   "metadata": {},
   "source": [
    "```{figure} ../_static/detrending_temperature_anomalies.png\n",
    "---\n",
    "width: 75%\n",
    "name: fig-detrending\n",
    "---\n",
    "Anomalías de temperatura después de eliminar la tendencia.\n",
    "\n"
   ]
  },
  {
   "cell_type": "markdown",
   "id": "75b6fd27",
   "metadata": {},
   "source": [
    "(id-pls-regression)=\n",
    "## 5. PLS Regression en Fortran\n",
    "Se implementa la regresión de mínimos cuadrados parciales (PLS)."
   ]
  },
  {
   "cell_type": "markdown",
   "id": "d1c2d6e0",
   "metadata": {},
   "source": [
    "Se definen matrices\n",
    "\n",
    "```fortran\n",
    "! FORTRAN\n",
    "allocate(U(anz_time,c2),Y(anz_time,c1))\t\t\n",
    "! make area w-weighted PSL and TAS fields into vectors, put them into U and Y"
   ]
  },
  {
   "cell_type": "markdown",
   "id": "f138129f",
   "metadata": {},
   "source": [
    "### 5.1 Matriz de Covarianza\n",
    "\n",
    "Se define la matriz de covarianza entre predictores  $\\mathbf{U}$ y $\\mathbf{Y}$ .\n",
    "\n",
    "\n",
    "\\begin{equation}\n",
    "    \\mathbf{COV} = \\frac{1}{anz\\_time} \\mathbf{U}^T \\mathbf{Y}\n",
    "\\end{equation}\n"
   ]
  },
  {
   "cell_type": "markdown",
   "id": "67618688",
   "metadata": {},
   "source": [
    "(id-pls-scikit-learn)=\n",
    "## 6. PLS con Scikit-Learn"
   ]
  },
  {
   "cell_type": "markdown",
   "id": "24d43671",
   "metadata": {},
   "source": [
    "```python\n",
    "# Python\n",
    "from sklearn.cross_decomposition import PLSRegression\n",
    "fac = 4\n",
    "pls = PLSRegression(n_components=fac)\n",
    "pls.fit(X_scaled, Y_scaled)\n",
    "x_weights = pls.x_weights_.T  # (fac, 9966)\n",
    "y_weights = pls.y_weights_.T  # (fac, 176)"
   ]
  },
  {
   "cell_type": "markdown",
   "id": "d7f053ff",
   "metadata": {},
   "source": [
    "(id-escritura-resultados)=\n",
    "## 7. Escritura de Resultados\n",
    "Se guardan los resultados en formato NetCDF para análisis posterior."
   ]
  },
  {
   "cell_type": "markdown",
   "id": "7bc635bd",
   "metadata": {},
   "source": [
    "```python\n",
    "xr.DataArray(\n",
    "    r2, dims=['component','latitude', 'longitude'],\n",
    "    coords={'longitude': PSL['longitude'], 'latitude': PSL['latitude'], 'component': np.arange(1, fac+1)},\n",
    "    name='PSLweights').to_netcdf(output_psl)\n",
    "\n",
    "xr.DataArray(\n",
    "    q2, dims=['component','latitude', 'longitude'],\n",
    "    coords={'longitude': TAS['longitude'], 'latitude': TAS['latitude'], 'component': np.arange(1, fac+1)},\n",
    "    name='TASweights').to_netcdf(output_tas)"
   ]
  }
 ],
 "metadata": {
  "kernelspec": {
   "display_name": "Python 3",
   "language": "python",
   "name": "python3"
  },
  "language_info": {
   "name": "python",
   "version": "3.6.8"
  }
 },
 "nbformat": 4,
 "nbformat_minor": 5
}
